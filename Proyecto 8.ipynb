{
 "cells": [
  {
   "cell_type": "markdown",
   "metadata": {},
   "source": [
    "# Proyecto 8"
   ]
  },
  {
   "cell_type": "markdown",
   "metadata": {},
   "source": [
    "## Descripción del proyecto\n",
    "\n",
    "La compañía móvil Megaline no está satisfecha al ver que muchos de sus clientes utilizan planes heredados. Quieren desarrollar un modelo que pueda analizar el comportamiento de los clientes y recomendar uno de los nuevos planes de Megaline: Smart o Ultra."
   ]
  },
  {
   "cell_type": "markdown",
   "metadata": {},
   "source": [
    "## Objetivo\n",
    "\n",
    "1. Crear un modelo que escoja el plan correcto.\n",
    "\n",
    "    2. Desarrollar un modelo con la mayor exactitud posible. El umbral de exactitud es 0.75. \n",
    "    \n",
    "        3. Usar el dataset para comprobar la exactitud."
   ]
  },
  {
   "cell_type": "markdown",
   "metadata": {},
   "source": [
    "## Pasos\n",
    "\n",
    "1. Abrir y examinar archivos.\n",
    "2. Segmentar los datos fuente en un conjunto de entrenamiento, uno de validación y uno de prueba.\n",
    "3. Investigar la calidad de diferentes modelos cambiando los hiperparámetros. \n",
    "4. Comprobar la calidad del modelo usando el conjunto de prueba.\n",
    "5. Hacer prueba de cordura al módelo. "
   ]
  },
  {
   "cell_type": "markdown",
   "metadata": {},
   "source": [
    "## Descripción de los datos\n",
    "\n",
    "Cada observación en el dataset contiene información del comportamiento mensual sobre un usuario. La información dada es la siguiente:\n",
    "\n",
    "- сalls — número de llamadas,\n",
    "\n",
    "- minutes — duración total de la llamada en minutos,\n",
    "\n",
    "- messages — número de mensajes de texto,\n",
    "\n",
    "- mb_used — Tráfico de Internet utilizado en MB,\n",
    "\n",
    "- is_ultra — plan para el mes actual (Ultra - 1, Smart - 0)."
   ]
  },
  {
   "cell_type": "markdown",
   "metadata": {},
   "source": [
    "## Análisis exploratorio de datos"
   ]
  },
  {
   "cell_type": "code",
   "execution_count": null,
   "metadata": {},
   "outputs": [],
   "source": [
    "# Importación de librerías \n",
    "\n",
    "import pandas as pd \n",
    "from sklearn.model_selection import train_test_split\n",
    "from sklearn.metrics import accuracy_score\n",
    "\n",
    "# Importación de modelos\n",
    "from sklearn.tree import DecisionTreeClassifier\n",
    "from sklearn.ensemble import RandomForestClassifier\n",
    "from sklearn.linear_model import LogisticRegression\n"
   ]
  },
  {
   "cell_type": "code",
   "execution_count": 4,
   "metadata": {},
   "outputs": [],
   "source": [
    "# Importación de archivos\n",
    "\n",
    "#df = pd.read_csv('users_behavior.csv')\n",
    "df = pd.read_csv('/datasets/users_behavior.csv')"
   ]
  },
  {
   "cell_type": "code",
   "execution_count": 5,
   "metadata": {},
   "outputs": [
    {
     "name": "stdout",
     "output_type": "stream",
     "text": [
      "<class 'pandas.core.frame.DataFrame'>\n",
      "RangeIndex: 3214 entries, 0 to 3213\n",
      "Data columns (total 5 columns):\n",
      " #   Column    Non-Null Count  Dtype  \n",
      "---  ------    --------------  -----  \n",
      " 0   calls     3214 non-null   float64\n",
      " 1   minutes   3214 non-null   float64\n",
      " 2   messages  3214 non-null   float64\n",
      " 3   mb_used   3214 non-null   float64\n",
      " 4   is_ultra  3214 non-null   int64  \n",
      "dtypes: float64(4), int64(1)\n",
      "memory usage: 125.7 KB\n"
     ]
    },
    {
     "data": {
      "text/html": [
       "<div>\n",
       "<style scoped>\n",
       "    .dataframe tbody tr th:only-of-type {\n",
       "        vertical-align: middle;\n",
       "    }\n",
       "\n",
       "    .dataframe tbody tr th {\n",
       "        vertical-align: top;\n",
       "    }\n",
       "\n",
       "    .dataframe thead th {\n",
       "        text-align: right;\n",
       "    }\n",
       "</style>\n",
       "<table border=\"1\" class=\"dataframe\">\n",
       "  <thead>\n",
       "    <tr style=\"text-align: right;\">\n",
       "      <th></th>\n",
       "      <th>calls</th>\n",
       "      <th>minutes</th>\n",
       "      <th>messages</th>\n",
       "      <th>mb_used</th>\n",
       "      <th>is_ultra</th>\n",
       "    </tr>\n",
       "  </thead>\n",
       "  <tbody>\n",
       "    <tr>\n",
       "      <th>0</th>\n",
       "      <td>40.0</td>\n",
       "      <td>311.90</td>\n",
       "      <td>83.0</td>\n",
       "      <td>19915.42</td>\n",
       "      <td>0</td>\n",
       "    </tr>\n",
       "    <tr>\n",
       "      <th>1</th>\n",
       "      <td>85.0</td>\n",
       "      <td>516.75</td>\n",
       "      <td>56.0</td>\n",
       "      <td>22696.96</td>\n",
       "      <td>0</td>\n",
       "    </tr>\n",
       "    <tr>\n",
       "      <th>2</th>\n",
       "      <td>77.0</td>\n",
       "      <td>467.66</td>\n",
       "      <td>86.0</td>\n",
       "      <td>21060.45</td>\n",
       "      <td>0</td>\n",
       "    </tr>\n",
       "    <tr>\n",
       "      <th>3</th>\n",
       "      <td>106.0</td>\n",
       "      <td>745.53</td>\n",
       "      <td>81.0</td>\n",
       "      <td>8437.39</td>\n",
       "      <td>1</td>\n",
       "    </tr>\n",
       "    <tr>\n",
       "      <th>4</th>\n",
       "      <td>66.0</td>\n",
       "      <td>418.74</td>\n",
       "      <td>1.0</td>\n",
       "      <td>14502.75</td>\n",
       "      <td>0</td>\n",
       "    </tr>\n",
       "  </tbody>\n",
       "</table>\n",
       "</div>"
      ],
      "text/plain": [
       "   calls  minutes  messages   mb_used  is_ultra\n",
       "0   40.0   311.90      83.0  19915.42         0\n",
       "1   85.0   516.75      56.0  22696.96         0\n",
       "2   77.0   467.66      86.0  21060.45         0\n",
       "3  106.0   745.53      81.0   8437.39         1\n",
       "4   66.0   418.74       1.0  14502.75         0"
      ]
     },
     "execution_count": 5,
     "metadata": {},
     "output_type": "execute_result"
    }
   ],
   "source": [
    "# Información y visualización\n",
    "\n",
    "df.info()\n",
    "df.head()"
   ]
  },
  {
   "cell_type": "markdown",
   "metadata": {},
   "source": [
    "<span style='color:blue'> Comentario: </span>\n",
    "1. No hay valores ausentes, los tipos de datos son adecuados. \n",
    "2. No es necesario analizar duplicados porque son valores numéricos que pueden repetirse muchas veces. "
   ]
  },
  {
   "cell_type": "markdown",
   "metadata": {},
   "source": [
    "## Segmentación de datos fuente"
   ]
  },
  {
   "cell_type": "code",
   "execution_count": 6,
   "metadata": {},
   "outputs": [
    {
     "name": "stdout",
     "output_type": "stream",
     "text": [
      "Dataset de entrenamiento: (1928, 5)\n",
      "Dataset de validación: (643, 5)\n",
      "Dataset de prueba: (643, 5)\n"
     ]
    }
   ],
   "source": [
    "# Creación de conjuntos de entrenamiento, validación y prueba \n",
    "# Se busca un proporción 3:1:1 \n",
    "\n",
    "# Se usará la función train_test_split 2 veces: \n",
    "# Primera segmentación: 80% entrenamiento + validación y 20% prueba\n",
    "\n",
    "df_train_valid, df_test = train_test_split(df, test_size=0.2, random_state=54321)\n",
    "\n",
    "# Segunda segmentación: 75% entrenamiento y 25% validación\n",
    "\n",
    "df_train, df_valid = train_test_split(df_train_valid, test_size=0.25, random_state=54321)\n",
    "\n",
    "# Verificación de tamaños de cada segmento\n",
    "\n",
    "print('Dataset de entrenamiento:', df_train.shape)\n",
    "print('Dataset de validación:', df_valid.shape)\n",
    "print('Dataset de prueba:', df_test.shape)\n"
   ]
  },
  {
   "cell_type": "code",
   "execution_count": 7,
   "metadata": {},
   "outputs": [],
   "source": [
    "# Separación de características y objetivo en cada dataset\n",
    "# La columna 'is_ultra' es el objetivo, el resto de columnas son características\n",
    "\n",
    "# Dataset de entranamiento\n",
    "\n",
    "df_train_features = df_train.drop(['is_ultra'], axis=1)\n",
    "df_train_target = df_train['is_ultra']\n",
    "\n",
    "# Dataset de validación\n",
    "\n",
    "df_valid_features = df_valid.drop(['is_ultra'], axis=1)\n",
    "df_valid_target = df_valid['is_ultra']\n",
    "\n",
    "# Dataset de prueba\n",
    "\n",
    "df_test_features = df_test.drop(['is_ultra'], axis=1)\n",
    "df_test_target = df_test['is_ultra']"
   ]
  },
  {
   "cell_type": "markdown",
   "metadata": {},
   "source": [
    "## Elección de modelos de clasificación\n",
    "\n",
    "Al tratarse de una tarea de clasficación, se probarán los siguientes modelos de clasificación: arbol de decisión, bosques aleatorios y regresión logística."
   ]
  },
  {
   "cell_type": "code",
   "execution_count": null,
   "metadata": {},
   "outputs": [
    {
     "name": "stdout",
     "output_type": "stream",
     "text": [
      "max_depth: 1, score: 0.776049766718507\n",
      "max_depth: 2, score: 0.7931570762052877\n",
      "max_depth: 3, score: 0.8087091757387247\n",
      "max_depth: 4, score: 0.8040435458786936\n",
      "max_depth: 5, score: 0.8164852255054432\n",
      "max_depth: 6, score: 0.8102643856920684\n",
      "max_depth: 7, score: 0.8149300155520995\n",
      "max_depth: 8, score: 0.8118195956454122\n",
      "max_depth: 9, score: 0.8149300155520995\n",
      "max_depth: 10, score: 0.7931570762052877\n"
     ]
    }
   ],
   "source": [
    "# Árbol de decisión\n",
    "\n",
    "# Bucle para probar profundidad del árbol desde 1 hasta 10\n",
    "for depth in range(1,11):\n",
    "    model = DecisionTreeClassifier(random_state=12345, max_depth=depth)\n",
    "\n",
    "    # Entrenamiento\n",
    "    model.fit(df_train_features, df_train_target)\n",
    "\n",
    "    # Exactitud con set de validación\n",
    "    score = model.score(df_valid_features, df_valid_target)\n",
    "\n",
    "    print(f\"max_depth: {depth}, score: {score}\")"
   ]
  },
  {
   "cell_type": "markdown",
   "metadata": {},
   "source": [
    "<span style='color:blue'> Comentario </span>\n",
    "\n",
    "El mejor score de exactitud del model de **árbol aleatorio** se obtuvo con una profundidad de 5:\n",
    "\n",
    "        max_depth: 5, score: 0.8164852255054432"
   ]
  },
  {
   "cell_type": "code",
   "execution_count": null,
   "metadata": {},
   "outputs": [
    {
     "name": "stdout",
     "output_type": "stream",
     "text": [
      "n_estimators = 1, exactitud = 0.7262830482115086\n",
      "n_estimators = 2, exactitud = 0.7822706065318819\n",
      "n_estimators = 3, exactitud = 0.7729393468118196\n",
      "n_estimators = 4, exactitud = 0.8133748055987559\n",
      "n_estimators = 5, exactitud = 0.80248833592535\n",
      "n_estimators = 6, exactitud = 0.8102643856920684\n",
      "n_estimators = 7, exactitud = 0.8102643856920684\n",
      "n_estimators = 8, exactitud = 0.8242612752721618\n",
      "n_estimators = 9, exactitud = 0.8118195956454122\n",
      "n_estimators = 10, exactitud = 0.8149300155520995\n"
     ]
    }
   ],
   "source": [
    "# Bosque aleatorio\n",
    "\n",
    "# Bucle para probar diferentes valores del hiperparámetro n_estimators, desde 1 hasta 10\n",
    "for est in range(1,11):\n",
    "    model = RandomForestClassifier(random_state=12345, n_estimators=est)\n",
    "    \n",
    "    # Entrenamiento\n",
    "    model.fit(df_train_features, df_train_target)\n",
    "\n",
    "    # Exactitud con set de validación\n",
    "    score = model.score(df_valid_features, df_valid_target)\n",
    "\n",
    "    print(f\"n_estimators = {est}, exactitud = {score}\")"
   ]
  },
  {
   "cell_type": "markdown",
   "metadata": {},
   "source": [
    "<span style='color:blue'> Comentario </span>\n",
    "\n",
    "El mejor score en el modelo de **bosque aleatorio** se obtuvo con n_estimators = 8:\n",
    "\n",
    "        n_estimators = 8, exactitud = 0.8242612752721618"
   ]
  },
  {
   "cell_type": "code",
   "execution_count": null,
   "metadata": {},
   "outputs": [
    {
     "name": "stdout",
     "output_type": "stream",
     "text": [
      "Exactitud del modelo: 0.776049766718507\n"
     ]
    }
   ],
   "source": [
    "# Regresión logística\n",
    "\n",
    "model = LogisticRegression(random_state=12345, solver='liblinear')\n",
    "\n",
    "# Entrenamiento del modelo\n",
    "model.fit(df_train_features, df_train_target)\n",
    "\n",
    "# Exactitud del modelo entranado con los datos de validación\n",
    "score = model.score(df_valid_features, df_valid_target)\n",
    "\n",
    "print('Exactitud del modelo:', score)"
   ]
  },
  {
   "cell_type": "markdown",
   "metadata": {},
   "source": [
    "<span style='color:blue'> Comentario </span>\n",
    "\n",
    "La exactitud del módelo de **regresión logística** fue:\n",
    "\n",
    "       Exactitud del modelo: 0.7325038880248833 \n",
    "\n",
    "\n",
    "<span style='color:green'> Elección de modelo </span>\n",
    "\n",
    "De acuerdo al valor de exactitud en el set de validación, el mejor modelo es de **bosque aleatorio** con un **score** de 0.8242 y **n_estimators** de 8"
   ]
  },
  {
   "cell_type": "markdown",
   "metadata": {},
   "source": [
    "## Comprobación de calidad del modelo\n",
    "\n",
    "Se seleccionó el modelo de clasificación de **bosque aleatorio**, por obtener la mejor calificación de exactitud en el set de validación. "
   ]
  },
  {
   "cell_type": "code",
   "execution_count": 11,
   "metadata": {},
   "outputs": [
    {
     "name": "stdout",
     "output_type": "stream",
     "text": [
      "La exactitud del modelo en el set de prueba es de: 0.7651632970451011\n"
     ]
    }
   ],
   "source": [
    "# Prueba del modelo de bosque aleatorio con el set de prueba\n",
    "\n",
    "model = RandomForestClassifier(random_state=12345, n_estimators=8)\n",
    "\n",
    "# Entrenamiento\n",
    "model.fit(df_train_features, df_train_target)\n",
    "\n",
    "# Exactitud con set de prueba\n",
    "score = model.score(df_test_features, df_test_target)\n",
    "\n",
    "print('La exactitud del modelo en el set de prueba es de:', score)"
   ]
  },
  {
   "cell_type": "markdown",
   "metadata": {},
   "source": [
    "<span style='color:blue'> Comentario </span>\n",
    "\n",
    "La exactitud del modelo con el set de prueba fue de 0.76\n",
    "\n",
    "        La exactitud del modelo en el set de prueba es de: 0.7651632970451011\n"
   ]
  },
  {
   "cell_type": "markdown",
   "metadata": {},
   "source": [
    "## Prueba de cordura"
   ]
  },
  {
   "cell_type": "code",
   "execution_count": 12,
   "metadata": {},
   "outputs": [
    {
     "data": {
      "text/html": [
       "<div>\n",
       "<style scoped>\n",
       "    .dataframe tbody tr th:only-of-type {\n",
       "        vertical-align: middle;\n",
       "    }\n",
       "\n",
       "    .dataframe tbody tr th {\n",
       "        vertical-align: top;\n",
       "    }\n",
       "\n",
       "    .dataframe thead th {\n",
       "        text-align: right;\n",
       "    }\n",
       "</style>\n",
       "<table border=\"1\" class=\"dataframe\">\n",
       "  <thead>\n",
       "    <tr style=\"text-align: right;\">\n",
       "      <th></th>\n",
       "      <th>calls</th>\n",
       "      <th>minutes</th>\n",
       "      <th>messages</th>\n",
       "      <th>mb_used</th>\n",
       "      <th>is_ultra</th>\n",
       "    </tr>\n",
       "  </thead>\n",
       "  <tbody>\n",
       "    <tr>\n",
       "      <th>0</th>\n",
       "      <td>40.0</td>\n",
       "      <td>311.90</td>\n",
       "      <td>83.0</td>\n",
       "      <td>19915.42</td>\n",
       "      <td>Smart</td>\n",
       "    </tr>\n",
       "    <tr>\n",
       "      <th>1</th>\n",
       "      <td>85.0</td>\n",
       "      <td>516.75</td>\n",
       "      <td>56.0</td>\n",
       "      <td>22696.96</td>\n",
       "      <td>Smart</td>\n",
       "    </tr>\n",
       "    <tr>\n",
       "      <th>2</th>\n",
       "      <td>77.0</td>\n",
       "      <td>467.66</td>\n",
       "      <td>86.0</td>\n",
       "      <td>21060.45</td>\n",
       "      <td>Smart</td>\n",
       "    </tr>\n",
       "    <tr>\n",
       "      <th>3</th>\n",
       "      <td>106.0</td>\n",
       "      <td>745.53</td>\n",
       "      <td>81.0</td>\n",
       "      <td>8437.39</td>\n",
       "      <td>Ultra</td>\n",
       "    </tr>\n",
       "    <tr>\n",
       "      <th>4</th>\n",
       "      <td>66.0</td>\n",
       "      <td>418.74</td>\n",
       "      <td>1.0</td>\n",
       "      <td>14502.75</td>\n",
       "      <td>Smart</td>\n",
       "    </tr>\n",
       "  </tbody>\n",
       "</table>\n",
       "</div>"
      ],
      "text/plain": [
       "   calls  minutes  messages   mb_used is_ultra\n",
       "0   40.0   311.90      83.0  19915.42    Smart\n",
       "1   85.0   516.75      56.0  22696.96    Smart\n",
       "2   77.0   467.66      86.0  21060.45    Smart\n",
       "3  106.0   745.53      81.0   8437.39    Ultra\n",
       "4   66.0   418.74       1.0  14502.75    Smart"
      ]
     },
     "execution_count": 12,
     "metadata": {},
     "output_type": "execute_result"
    }
   ],
   "source": [
    "# Modificación del tipo de datos en el target, cambiando los valores numéricos:\n",
    "# 1 - Ultra, 0 - Smart\n",
    "\n",
    "df['is_ultra'].replace(1, 'Ultra', inplace=True)\n",
    "df['is_ultra'].replace(0, 'Smart', inplace=True)\n",
    "\n",
    "df.head()"
   ]
  },
  {
   "cell_type": "code",
   "execution_count": 13,
   "metadata": {},
   "outputs": [],
   "source": [
    "# Creación de sets de entrenamiento, validación y prueba\n",
    "\n",
    "df_train_valid, df_test = train_test_split(df, test_size=0.2, random_state=54321)\n",
    "\n",
    "# Segunda segmentación: 75% entrenamiento y 25% validación\n",
    "\n",
    "df_train, df_valid = train_test_split(df_train_valid, test_size=0.25, random_state=54321)"
   ]
  },
  {
   "cell_type": "code",
   "execution_count": 14,
   "metadata": {},
   "outputs": [],
   "source": [
    "# Separación de características y objetivo en cada dataset\n",
    "# La columna 'is_ultra' es el objetivo, el resto de columnas son características\n",
    "\n",
    "# Dataset de entranamiento\n",
    "\n",
    "df_train_features = df_train.drop(['is_ultra'], axis=1)\n",
    "df_train_target = df_train['is_ultra']\n",
    "\n",
    "# Dataset de validación\n",
    "\n",
    "df_valid_features = df_valid.drop(['is_ultra'], axis=1)\n",
    "df_valid_target = df_valid['is_ultra']\n",
    "\n",
    "# Dataset de prueba\n",
    "\n",
    "df_test_features = df_test.drop(['is_ultra'], axis=1)\n",
    "df_test_target = df_test['is_ultra']"
   ]
  },
  {
   "cell_type": "code",
   "execution_count": 15,
   "metadata": {},
   "outputs": [
    {
     "name": "stdout",
     "output_type": "stream",
     "text": [
      "Exactitud del modelo en la prueba de cordura: 0.7651632970451011\n"
     ]
    }
   ],
   "source": [
    "# Prueba de cordura\n",
    "# Entrenamiento\n",
    "\n",
    "model = RandomForestClassifier(random_state=12345, n_estimators=8)\n",
    "\n",
    "model.fit(df_train_features, df_train_target)\n",
    "\n",
    "# Prueba\n",
    "\n",
    "score = model.score(df_test_features, df_test_target)\n",
    "\n",
    "print('Exactitud del modelo en la prueba de cordura:', score)"
   ]
  },
  {
   "cell_type": "markdown",
   "metadata": {},
   "source": [
    "<span style='color:blue'> Comentario </span>\n",
    "\n",
    "Se obtuvo una exactitud de 0.7651 con la prueba de cordura:\n",
    "\n",
    "       Exactitud del modelo en la prueba de cordura: 0.7651632970451011\n",
    "\n",
    "La exactitud del modelo después de cambiar los valores numéricos de la columna target ('is_ultra') por los strings respectivos (Ultra y Smart), fue igual al score obtenido antes del cambio. Por lo tanto, el modelo funciona bien. "
   ]
  },
  {
   "cell_type": "markdown",
   "metadata": {},
   "source": [
    "## Conclusiones\n",
    "\n",
    "1. Se evaluaron 3 modelos de clasificación, probando diferentes hiperparámetros en cada uno: \n",
    "    - árbol de decisión\n",
    "    - bosque aleatorio\n",
    "    - regresión logística\n",
    "2. El modelo de bosque aleatorio con n_estimators igual a 8 obtuvo el mejor score, igual a 0.824\n",
    "3. La exactitud del modelo de bosque aleatorio con el conjunto de prueba fue de 0.765. El umbral de exactitud solicitado era de 0.75, por lo que el modelo creado es aceptable. \n",
    "4. La prueba de cordura consistió en cambiar los valores target, de numérico (0 y 1) a su descripción textual (Smart y Ultra). El score de exactitud fue igual al primer score obtenido. Se puede decir que la prueba de cordura fue superada. "
   ]
  }
 ],
 "metadata": {
  "ExecuteTimeLog": [
   {
    "duration": 1127,
    "start_time": "2024-08-01T18:24:20.296Z"
   },
   {
    "duration": 1130,
    "start_time": "2024-08-01T18:24:21.427Z"
   },
   {
    "duration": 0,
    "start_time": "2024-08-01T18:24:22.561Z"
   },
   {
    "duration": 0,
    "start_time": "2024-08-01T18:24:22.563Z"
   },
   {
    "duration": 0,
    "start_time": "2024-08-01T18:24:22.565Z"
   },
   {
    "duration": 0,
    "start_time": "2024-08-01T18:24:22.568Z"
   },
   {
    "duration": 0,
    "start_time": "2024-08-01T18:24:22.570Z"
   },
   {
    "duration": 0,
    "start_time": "2024-08-01T18:24:22.573Z"
   },
   {
    "duration": 0,
    "start_time": "2024-08-01T18:24:22.575Z"
   },
   {
    "duration": 0,
    "start_time": "2024-08-01T18:24:22.577Z"
   },
   {
    "duration": 0,
    "start_time": "2024-08-01T18:24:22.579Z"
   },
   {
    "duration": 0,
    "start_time": "2024-08-01T18:24:22.581Z"
   },
   {
    "duration": 0,
    "start_time": "2024-08-01T18:24:22.584Z"
   },
   {
    "duration": 4,
    "start_time": "2024-08-01T18:29:10.593Z"
   },
   {
    "duration": 17,
    "start_time": "2024-08-01T18:29:10.601Z"
   },
   {
    "duration": 32,
    "start_time": "2024-08-01T18:29:10.621Z"
   },
   {
    "duration": 10,
    "start_time": "2024-08-01T18:29:10.657Z"
   },
   {
    "duration": 8,
    "start_time": "2024-08-01T18:29:10.670Z"
   },
   {
    "duration": 233,
    "start_time": "2024-08-01T18:29:10.681Z"
   },
   {
    "duration": 372,
    "start_time": "2024-08-01T18:29:10.918Z"
   },
   {
    "duration": 40,
    "start_time": "2024-08-01T18:29:11.294Z"
   },
   {
    "duration": 55,
    "start_time": "2024-08-01T18:29:11.339Z"
   },
   {
    "duration": 35,
    "start_time": "2024-08-01T18:29:11.401Z"
   },
   {
    "duration": 9,
    "start_time": "2024-08-01T18:29:11.439Z"
   },
   {
    "duration": 9,
    "start_time": "2024-08-01T18:29:11.450Z"
   },
   {
    "duration": 92,
    "start_time": "2024-08-01T18:29:11.462Z"
   }
  ],
  "kernelspec": {
   "display_name": "Python 3 (ipykernel)",
   "language": "python",
   "name": "python3"
  },
  "language_info": {
   "codemirror_mode": {
    "name": "ipython",
    "version": 3
   },
   "file_extension": ".py",
   "mimetype": "text/x-python",
   "name": "python",
   "nbconvert_exporter": "python",
   "pygments_lexer": "ipython3",
   "version": "3.9.19"
  },
  "toc": {
   "base_numbering": 1,
   "nav_menu": {},
   "number_sections": true,
   "sideBar": true,
   "skip_h1_title": true,
   "title_cell": "Table of Contents",
   "title_sidebar": "Contents",
   "toc_cell": false,
   "toc_position": {},
   "toc_section_display": true,
   "toc_window_display": false
  }
 },
 "nbformat": 4,
 "nbformat_minor": 2
}
